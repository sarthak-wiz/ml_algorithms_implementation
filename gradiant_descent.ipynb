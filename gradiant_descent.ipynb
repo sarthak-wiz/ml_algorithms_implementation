{
 "cells": [
  {
   "cell_type": "markdown",
   "metadata": {},
   "source": [
    "#f(w) = 3*w_0**2 + 4*w_1**2 - 5*w_0 + 7"
   ]
  },
  {
   "cell_type": "code",
   "execution_count": 4,
   "metadata": {},
   "outputs": [
    {
     "name": "stdout",
     "output_type": "stream",
     "text": [
      "[5, 10]\n",
      "457\n",
      "[0.75, 2.4]\n",
      "27.9775\n"
     ]
    }
   ],
   "source": [
    "def F(w):\n",
    "    return 3*w[0]**2 + 4*w[1]**2 - 5*w[0] + 7\n",
    "\n",
    "def grad(w):\n",
    "    g = [0]*2\n",
    "    g[0] = 6*w[0] - 5\n",
    "    g[1] = 8*w[1]\n",
    "    return g\n",
    "\n",
    "def descent(w_new, w_prev, lr):\n",
    "    print(w_prev)\n",
    "    print (F(w_prev))\n",
    "    while True:\n",
    "        w_prev = w_new\n",
    "        w_0 = w_prev[0] = lr*grad(w_prev)[0]\n",
    "        w_1 = w_prev[1] = lr*grad(w_prev)[1]\n",
    "        w_new = [w_0, w_1]\n",
    "        print(w_new)\n",
    "        print(F(w_new))\n",
    "        if (w_new[0]-w_prev[0])**2 + (w_new[1]-w_prev[1])**2 <pow(10, -6):\n",
    "            break\n",
    "\n",
    "descent([5,10], [5,10], .03)"
   ]
  }
 ],
 "metadata": {
  "kernelspec": {
   "display_name": "Python 3",
   "language": "python",
   "name": "python3"
  },
  "language_info": {
   "codemirror_mode": {
    "name": "ipython",
    "version": 3
   },
   "file_extension": ".py",
   "mimetype": "text/x-python",
   "name": "python",
   "nbconvert_exporter": "python",
   "pygments_lexer": "ipython3",
   "version": "3.11.9"
  }
 },
 "nbformat": 4,
 "nbformat_minor": 2
}
