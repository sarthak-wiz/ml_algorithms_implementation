{
 "cells": [
  {
   "cell_type": "markdown",
   "metadata": {},
   "source": [
    "## Creating Fake Data"
   ]
  },
  {
   "cell_type": "code",
   "execution_count": 5,
   "metadata": {},
   "outputs": [],
   "source": [
    "import numpy as np\n",
    "from sklearn.utils import shuffle\n",
    "from sklearn.datasets import make_blobs\n",
    "X, Y = make_blobs(n_samples=300, centers=2, n_features=2, cluster_std=5, random_state=11)"
   ]
  },
  {
   "cell_type": "markdown",
   "metadata": {},
   "source": [
    "## Visualizing the Data"
   ]
  },
  {
   "cell_type": "code",
   "execution_count": 6,
   "metadata": {},
   "outputs": [
    {
     "data": {
      "image/png": "[encoded data removed]",
      "text/plain": [
       "<Figure size 640x480 with 1 Axes>"
      ]
     },
     "metadata": {},
     "output_type": "display_data"
    }
   ],
   "source": [
    "from matplotlib import pyplot as plt\n",
    "from pandas import DataFrame \n",
    "df = DataFrame(dict(x=X[:,0], y=X[:,1], label=Y))\n",
    "colors = {0:'blue', 1:'orange'}\n",
    "fig, ax = plt.subplots()\n",
    "grouped = df.groupby('label')\n",
    "for key, group in grouped:\n",
    "    group.plot(ax=ax, kind='scatter', x='x', y='y', label=key, color=colors[key])\n",
    "plt.xlabel('X_1')\n",
    "plt.ylabel('X_2')\n",
    "plt.show()"
   ]
  },
  {
   "cell_type": "markdown",
   "metadata": {},
   "source": [
    "## Splitting into batches"
   ]
  },
  {
   "cell_type": "code",
   "execution_count": 7,
   "metadata": {},
   "outputs": [],
   "source": [
    "def next_batch(X, Y, batch_size):\n",
    "    for i in np.arange(0, X.shape[0], batch_size):\n",
    "        yield (X[i:i + batch_size], Y[i:i + batch_size])"
   ]
  },
  {
   "cell_type": "markdown",
   "metadata": {},
   "source": [
    "## Adding column of 1's "
   ]
  },
  {
   "cell_type": "code",
   "execution_count": 8,
   "metadata": {},
   "outputs": [
    {
     "data": {
      "text/plain": [
       "(300, 3)"
      ]
     },
     "execution_count": 8,
     "metadata": {},
     "output_type": "execute_result"
    }
   ],
   "source": [
    "X = np.c_[np.ones((X.shape[0])), X]\n",
    "X.shape"
   ]
  },
  {
   "cell_type": "markdown",
   "metadata": {},
   "source": [
    "## Logistic Model"
   ]
  },
  {
   "cell_type": "code",
   "execution_count": 9,
   "metadata": {},
   "outputs": [],
   "source": [
    "import numpy as np\n",
    "def sigmoid(z):\n",
    "    return 1 / (1 + np.exp(-z))"
   ]
  },
  {
   "cell_type": "code",
   "execution_count": 10,
   "metadata": {},
   "outputs": [],
   "source": [
    "def hx(W,X):\n",
    "    return sigmoid(np.dot(X,W))"
   ]
  },
  {
   "cell_type": "markdown",
   "metadata": {},
   "source": [
    "## Cost Function - Binary Cross Entropy "
   ]
  },
  {
   "cell_type": "code",
   "execution_count": 11,
   "metadata": {},
   "outputs": [],
   "source": [
    "def cost(W, X, Y):\n",
    "    y_pred = hx(W,X)\n",
    "    return -1 * sum(Y*np.log(y_pred) + (1-Y)*np.log(1-y_pred))"
   ]
  },
  {
   "cell_type": "markdown",
   "metadata": {},
   "source": [
    "## Stochastic Gradient Descent"
   ]
  },
  {
   "cell_type": "code",
   "execution_count": 12,
   "metadata": {},
   "outputs": [],
   "source": [
    "def grad(W, X, Y):\n",
    "    y_pred = hx(W,X)\n",
    "    A = (Y*(1-y_pred) - (1-Y)*y_pred)\n",
    "    g = -1* np.dot(A.T,X)\n",
    "    return g"
   ]
  },
  {
   "cell_type": "code",
   "execution_count": 13,
   "metadata": {},
   "outputs": [],
   "source": [
    "def sgd(W_new, W_prev, lr, batch_size, epochs):\n",
    "    X_, Y_ = shuffle(X, Y, random_state=0)\n",
    "    for e in range(epochs):\n",
    "        epoch_loss = []\n",
    "        X_, Y_ = shuffle(X_, Y_, random_state=0)\n",
    "        for (batchX, batchY) in next_batch(X_, Y_, batch_size):\n",
    "            W_prev = W_new\n",
    "            epoch_loss.append(cost(W_prev, batchX, batchY))\n",
    "            gradients = grad(W_prev, batchX, batchY)\n",
    "            W_new = W_prev - lr*gradients\n",
    "        print(np.average(epoch_loss))\n",
    "    return W_new"
   ]
  },
  {
   "cell_type": "markdown",
   "metadata": {},
   "source": [
    "## Initializing Weights & Bias"
   ]
  },
  {
   "cell_type": "code",
   "execution_count": 14,
   "metadata": {},
   "outputs": [
    {
     "data": {
      "text/plain": [
       "(3,)"
      ]
     },
     "execution_count": 14,
     "metadata": {},
     "output_type": "execute_result"
    }
   ],
   "source": [
    "W = np.random.uniform(size=(X.shape[1],))\n",
    "W.shape"
   ]
  },
  {
   "cell_type": "markdown",
   "metadata": {},
   "source": [
    "## Training the Model"
   ]
  },
  {
   "cell_type": "code",
   "execution_count": 15,
   "metadata": {},
   "outputs": [
    {
     "name": "stdout",
     "output_type": "stream",
     "text": [
      "[0.60438712 0.9438995  0.02563984]\n",
      "10.139782629705604\n",
      "5.877204107712454\n",
      "5.751397760120404\n",
      "5.545966880805565\n",
      "5.7325550994358965\n",
      "5.3317366094968515\n",
      "5.3126330529360235\n",
      "5.087518801034255\n",
      "5.476509038984082\n",
      "5.0862855237197255\n",
      "5.120415323568617\n",
      "5.040928503127617\n",
      "5.242768410206066\n",
      "4.9996864705829696\n",
      "5.05601984665284\n",
      "5.124049361702288\n",
      "5.250068827894738\n",
      "5.337165159363618\n",
      "5.245123254255333\n",
      "4.935457077605703\n",
      "5.144173953655011\n",
      "4.869464376498385\n",
      "5.16266571057478\n",
      "4.986931513400752\n",
      "5.078352989314741\n",
      "5.260065538161424\n",
      "5.15484275627027\n",
      "5.3784631931492175\n",
      "5.01916721561154\n",
      "4.918576294885444\n",
      "5.1564087985367175\n",
      "4.77915614087604\n",
      "5.171719444446799\n",
      "4.982705587725647\n",
      "5.066260241725171\n",
      "5.130532092149055\n",
      "5.056044082473994\n",
      "4.7518825969849585\n",
      "5.0448397882308615\n",
      "5.200462711231134\n",
      "5.286243283737334\n",
      "4.696305317385892\n",
      "5.111303566836876\n",
      "4.929348934772191\n",
      "5.509042935005879\n",
      "4.9296254690889345\n",
      "5.358485749421694\n",
      "5.109957620850372\n",
      "5.269084393855303\n",
      "5.055466186694378\n",
      "5.127183599004282\n",
      "5.256276691073399\n",
      "5.2017665560688995\n",
      "5.29704658279315\n",
      "4.842584262018551\n",
      "5.216469130486223\n",
      "5.167257528561698\n",
      "5.030917708292866\n",
      "4.920840695860852\n",
      "5.028652225469477\n",
      "5.254897133902942\n",
      "5.016545994479777\n",
      "4.9027395459348\n",
      "4.952101660970619\n",
      "4.919064392821733\n",
      "5.027081989095547\n",
      "5.077863809038382\n",
      "4.880107216488055\n",
      "4.944961949100976\n",
      "5.052607420128244\n",
      "5.081636247603095\n",
      "5.182615509464489\n",
      "4.9697188289449095\n",
      "5.056665557360864\n",
      "5.110421486568671\n",
      "4.996909471053984\n",
      "4.989675901492758\n",
      "4.858854658958818\n",
      "4.9306968843636145\n",
      "5.009316734959656\n",
      "5.1279849626546765\n",
      "5.023056609315079\n",
      "5.25401330759018\n",
      "5.01405503618097\n",
      "4.979844617590548\n",
      "5.05244117831914\n",
      "5.042091536513455\n",
      "5.06943122372444\n",
      "5.150235220194416\n",
      "5.1643881211985265\n",
      "5.039136401167669\n",
      "4.988314515705017\n",
      "5.1324243944182015\n",
      "4.891151119850356\n",
      "5.062064914687189\n",
      "5.2087202960311085\n",
      "4.955108892224557\n",
      "4.882139340994842\n",
      "4.935126869397532\n",
      "5.452746628984482\n",
      "4.90262973389097\n",
      "4.973207597038587\n",
      "4.969115938151479\n",
      "5.034817004243652\n",
      "5.111588172193785\n",
      "5.05270546774288\n",
      "4.968832051436057\n",
      "5.088605510423944\n",
      "4.915805803258241\n",
      "5.093161951246816\n",
      "5.0336605384015165\n",
      "5.223411639681652\n",
      "5.10777353757621\n",
      "5.1354980044980385\n",
      "4.989778316662363\n",
      "5.165522203751233\n",
      "5.327772204091434\n",
      "5.0190812627799115\n",
      "5.0239541834701855\n",
      "5.026682069758722\n",
      "5.159706294146243\n",
      "5.027793233440949\n",
      "4.988644496965572\n",
      "5.012931316323538\n",
      "5.081670149056837\n",
      "5.2721138585225455\n",
      "4.85186690030919\n",
      "4.95697094062797\n",
      "5.025159499413382\n",
      "4.993675164438742\n",
      "5.099868521886183\n",
      "5.09618368524348\n",
      "5.236923166895684\n",
      "4.9036737998397735\n",
      "5.075806246649483\n",
      "4.70167048464532\n",
      "5.299083876063195\n",
      "5.112200403614942\n",
      "5.057197895730452\n",
      "5.213610632132935\n",
      "5.119847850038175\n",
      "4.928096867851819\n",
      "4.991963169707052\n",
      "4.994823430932199\n",
      "5.049268883012218\n",
      "4.942712035599366\n",
      "4.919137292590895\n",
      "5.431434441179802\n",
      "5.116112618557991\n",
      "4.96258907529944\n",
      "5.042135715512055\n",
      "5.157805209135594\n",
      "5.048962414304363\n",
      "5.018981478373776\n",
      "5.185034311988263\n",
      "5.0324648010744735\n",
      "4.897107102892239\n",
      "4.954216312428743\n",
      "5.259006749337724\n",
      "5.182717920271654\n",
      "4.8848256505079934\n",
      "5.156842162543179\n",
      "5.047644925316227\n",
      "5.050121538113345\n",
      "4.869793830953785\n",
      "4.995719056160249\n",
      "5.0229887823588\n",
      "5.00283925494516\n",
      "4.88131965693986\n",
      "5.055590757074213\n",
      "5.015669743611758\n",
      "5.013392251207866\n",
      "4.989724263340642\n",
      "4.880411876894993\n",
      "5.416223965654758\n",
      "5.28673851413432\n",
      "5.1141490000605625\n",
      "5.079966030727333\n",
      "4.92542674510828\n",
      "5.145177171755199\n",
      "5.130160249911907\n",
      "5.024813946824566\n",
      "4.958769509480853\n",
      "4.818431540290041\n",
      "5.3484225886064305\n",
      "5.279334803909111\n",
      "5.107921018268238\n",
      "5.1507978052341645\n",
      "5.096405941829683\n",
      "5.005856773332998\n",
      "5.200218755554768\n",
      "4.962296351801561\n",
      "4.93752282524832\n",
      "5.174090736689599\n",
      "5.140097618774726\n",
      "5.131992817542366\n",
      "5.048127826662205\n",
      "5.41604792689172\n",
      "5.057120661502454\n",
      "4.864273831890158\n",
      "[2.38150193 0.22263097 0.53666721]\n"
     ]
    }
   ],
   "source": [
    "print(W)\n",
    "W = sgd(W, W, .009, 32, 200)\n",
    "print(W)"
   ]
  },
  {
   "cell_type": "markdown",
   "metadata": {},
   "source": [
    "## Visualizing the Result"
   ]
  },
  {
   "cell_type": "code",
   "execution_count": 16,
   "metadata": {},
   "outputs": [
    {
     "data": {
      "image/png": "[encoded data removed]",
      "text/plain": [
       "<Figure size 640x480 with 1 Axes>"
      ]
     },
     "metadata": {},
     "output_type": "display_data"
    }
   ],
   "source": [
    "def graph(formula, x_range):  \n",
    "    x = np.array(x_range)  \n",
    "    y = formula(x)  \n",
    "    plt.plot(x, y)  \n",
    "    \n",
    "def my_formula(x):\n",
    "    return (-W[0]-W[1]*x)/W[2]\n",
    "\n",
    "from matplotlib import pyplot as plt\n",
    "from pandas import DataFrame \n",
    "df = DataFrame(dict(x=X[:,1], y=X[:,2], label=Y))\n",
    "colors = {0:'blue', 1:'orange'}\n",
    "fig, ax = plt.subplots()\n",
    "grouped = df.groupby('label')\n",
    "for key, group in grouped:\n",
    "    group.plot(ax=ax, kind='scatter', x='x', y='y', label=key, color=colors[key])\n",
    "graph(my_formula, range(-20,15))\n",
    "plt.xlabel('X_1')\n",
    "plt.ylabel('X_2')\n",
    "plt.show()"
   ]
  }
 ],
 "metadata": {
  "kernelspec": {
   "display_name": "Python 3",
   "language": "python",
   "name": "python3"
  },
  "language_info": {
   "codemirror_mode": {
    "name": "ipython",
    "version": 3
   },
   "file_extension": ".py",
   "mimetype": "text/x-python",
   "name": "python",
   "nbconvert_exporter": "python",
   "pygments_lexer": "ipython3",
   "version": "3.11.9"
  }
 },
 "nbformat": 4,
 "nbformat_minor": 2
}
