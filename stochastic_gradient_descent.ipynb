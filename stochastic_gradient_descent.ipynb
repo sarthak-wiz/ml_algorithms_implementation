{
 "cells": [
  {
   "cell_type": "markdown",
   "metadata": {},
   "source": [
    "## Creating Fake Data"
   ]
  },
  {
   "cell_type": "code",
   "execution_count": 1,
   "metadata": {},
   "outputs": [],
   "source": [
    "import numpy as np\n",
    "from sklearn.utils import shuffle\n",
    "from sklearn.datasets.samples_generator import make_blobs\n",
    "X, Y = make_blobs(n_samples=300, centers=2, n_features=2, cluster_std=5, random_state=11)"
   ]
  },
  {
   "cell_type": "markdown",
   "metadata": {},
   "source": [
    "## Visualizing the Data"
   ]
  },
  {
   "cell_type": "code",
   "execution_count": 3,
   "metadata": {},
   "outputs": [
    {
     "data": {
      "image/png": "[encoded data removed]",
      "text/plain": [
       "<Figure size 432x288 with 1 Axes>"
      ]
     },
     "metadata": {},
     "output_type": "display_data"
    }
   ],
   "source": [
    "from matplotlib import pyplot as plt\n",
    "from pandas import DataFrame \n",
    "df = DataFrame(dict(x=X[:,0], y=X[:,1], label=Y))\n",
    "colors = {0:'blue', 1:'orange'}\n",
    "fig, ax = plt.subplots()\n",
    "grouped = df.groupby('label')\n",
    "for key, group in grouped:\n",
    "    group.plot(ax=ax, kind='scatter', x='x', y='y', label=key, color=colors[key])\n",
    "plt.xlabel('X_1')\n",
    "plt.ylabel('X_2')\n",
    "plt.show()"
   ]
  },
  {
   "cell_type": "markdown",
   "metadata": {},
   "source": [
    "## Splitting into batches"
   ]
  },
  {
   "cell_type": "code",
   "execution_count": 4,
   "metadata": {},
   "outputs": [],
   "source": [
    "def next_batch(X, Y, batch_size):\n",
    "    for i in np.arange(0, X.shape[0], batch_size):\n",
    "        yield (X[i:i + batch_size], Y[i:i + batch_size])"
   ]
  },
  {
   "cell_type": "markdown",
   "metadata": {},
   "source": [
    "## Adding column of 1's "
   ]
  },
  {
   "cell_type": "code",
   "execution_count": 5,
   "metadata": {},
   "outputs": [
    {
     "data": {
      "text/plain": [
       "(300, 3)"
      ]
     },
     "execution_count": 5,
     "metadata": {},
     "output_type": "execute_result"
    }
   ],
   "source": [
    "X = np.c_[np.ones((X.shape[0])), X]\n",
    "X.shape"
   ]
  },
  {
   "cell_type": "markdown",
   "metadata": {},
   "source": [
    "## Logistic Model"
   ]
  },
  {
   "cell_type": "code",
   "execution_count": 6,
   "metadata": {},
   "outputs": [],
   "source": [
    "import numpy as np\n",
    "def sigmoid(z):\n",
    "    return 1 / (1 + np.exp(-z))"
   ]
  },
  {
   "cell_type": "code",
   "execution_count": 7,
   "metadata": {},
   "outputs": [],
   "source": [
    "def hx(W,X):\n",
    "    return sigmoid(np.dot(X,W))"
   ]
  },
  {
   "cell_type": "markdown",
   "metadata": {},
   "source": [
    "## Cost Function - Binary Cross Entropy "
   ]
  },
  {
   "cell_type": "code",
   "execution_count": 8,
   "metadata": {},
   "outputs": [],
   "source": [
    "def cost(W, X, Y):\n",
    "    y_pred = hx(W,X)\n",
    "    return -1 * sum(Y*np.log(y_pred) + (1-Y)*np.log(1-y_pred))"
   ]
  },
  {
   "cell_type": "markdown",
   "metadata": {},
   "source": [
    "## Stochastic Gradient Descent"
   ]
  },
  {
   "cell_type": "code",
   "execution_count": 9,
   "metadata": {},
   "outputs": [],
   "source": [
    "def grad(W, X, Y):\n",
    "    y_pred = hx(W,X)\n",
    "    A = (Y*(1-y_pred) - (1-Y)*y_pred)\n",
    "    g = -1* np.dot(A.T,X)\n",
    "    return g"
   ]
  },
  {
   "cell_type": "code",
   "execution_count": 10,
   "metadata": {},
   "outputs": [],
   "source": [
    "def sgd(W_new, W_prev, lr, batch_size, epochs):\n",
    "    X_, Y_ = shuffle(X, Y, random_state=0)\n",
    "    for e in range(epochs):\n",
    "        epoch_loss = []\n",
    "        X_, Y_ = shuffle(X_, Y_, random_state=0)\n",
    "        for (batchX, batchY) in next_batch(X_, Y_, batch_size):\n",
    "            W_prev = W_new\n",
    "            epoch_loss.append(cost(W_prev, batchX, batchY))\n",
    "            gradients = grad(W_prev, batchX, batchY)\n",
    "            W_new = W_prev - lr*gradients\n",
    "        print(np.average(epoch_loss))\n",
    "    return W_new"
   ]
  },
  {
   "cell_type": "markdown",
   "metadata": {},
   "source": [
    "## Initializing Weights & Bias"
   ]
  },
  {
   "cell_type": "code",
   "execution_count": 11,
   "metadata": {},
   "outputs": [
    {
     "data": {
      "text/plain": [
       "(3,)"
      ]
     },
     "execution_count": 11,
     "metadata": {},
     "output_type": "execute_result"
    }
   ],
   "source": [
    "W = np.random.uniform(size=(X.shape[1],))\n",
    "W.shape"
   ]
  },
  {
   "cell_type": "markdown",
   "metadata": {},
   "source": [
    "## Training the Model"
   ]
  },
  {
   "cell_type": "code",
   "execution_count": 12,
   "metadata": {},
   "outputs": [
    {
     "name": "stdout",
     "output_type": "stream",
     "text": [
      "[0.79618896 0.4163837  0.42391672]\n",
      "6.277384446178855\n",
      "5.743854541290189\n",
      "5.639645113634937\n",
      "5.470853335391083\n",
      "5.667962099033007\n",
      "5.28981499238036\n",
      "5.271342725834096\n",
      "5.060368761481374\n",
      "5.446976524735743\n",
      "5.066447704414417\n",
      "5.09547652563199\n",
      "5.027047324020139\n",
      "5.231413878163542\n",
      "4.988553649645022\n",
      "5.045966239495252\n",
      "5.114093205881277\n",
      "5.24313649711587\n",
      "5.3309800879511595\n",
      "5.2369933729138705\n",
      "4.931357222546931\n",
      "5.141072913940974\n",
      "4.865177946360237\n",
      "5.159259956251705\n",
      "4.9850013574989935\n",
      "5.075992543432262\n",
      "5.257537980731875\n",
      "5.15220734911969\n",
      "5.376113028226739\n",
      "5.01790696023796\n",
      "4.91743150129637\n",
      "5.155592756181093\n",
      "4.778496875740468\n",
      "5.170830308497642\n",
      "4.982057737386109\n",
      "5.065383224896023\n",
      "5.130301783329287\n",
      "5.0560422794900335\n",
      "4.751542045996459\n",
      "5.044836198314092\n",
      "5.200065208594642\n",
      "5.285956700133218\n",
      "4.69607623817095\n",
      "5.1110131343684895\n",
      "4.929261653440459\n",
      "5.508577234972032\n",
      "4.9295442093408335\n",
      "5.35853341436791\n",
      "5.109882297828997\n",
      "5.268900506923824\n",
      "5.0553568625861995\n",
      "5.127108057053507\n",
      "5.256180863878795\n",
      "5.2017470229439295\n",
      "5.29706022610866\n",
      "4.842578732589242\n",
      "5.216497984078021\n",
      "5.167172158840554\n",
      "5.030913544155235\n",
      "4.9208154561894215\n",
      "5.0286895579435775\n",
      "5.254927983516582\n",
      "5.01657084246088\n",
      "4.902782163580072\n",
      "4.952060238428389\n",
      "4.9191214387250035\n",
      "5.027098170280329\n",
      "5.077946337475286\n",
      "4.880098287861289\n",
      "4.944972140093644\n",
      "5.052666303168795\n",
      "5.081615975832211\n",
      "5.182569862898558\n",
      "4.9697239615921625\n",
      "5.056706134894904\n",
      "5.110368058329958\n",
      "4.996883358551884\n",
      "4.989696640078847\n",
      "4.858898302441649\n",
      "4.930715531754518\n",
      "5.009314794537656\n",
      "5.127984153485331\n",
      "5.0231049124602825\n",
      "5.254008279820028\n",
      "5.014073801135062\n",
      "4.97986671455312\n",
      "5.05243719762335\n",
      "5.0420997708089415\n",
      "5.069451589063102\n",
      "5.150257226697879\n",
      "5.164400634677876\n",
      "5.039134823534483\n",
      "4.9883474157043795\n",
      "5.132433782589542\n",
      "4.891167385232467\n",
      "5.062085674381252\n",
      "5.2087055067642165\n",
      "4.955120478076216\n",
      "4.88214965225135\n",
      "4.935119155279668\n",
      "5.4527388101645755\n",
      "4.902647474574163\n",
      "4.973218626980669\n",
      "4.969125747240431\n",
      "5.034819845305565\n",
      "5.11158072777152\n",
      "5.052709686640736\n",
      "4.968840505649011\n",
      "5.088612053925859\n",
      "4.915818444090352\n",
      "5.093157727293972\n",
      "5.033660011718062\n",
      "5.223412724166921\n",
      "5.1077816665230475\n",
      "5.135494856877415\n",
      "4.989777059244171\n",
      "5.165527490515357\n",
      "5.327764783138228\n",
      "5.019080784749545\n",
      "5.0239554594473805\n",
      "5.026682139880581\n",
      "5.159710856114193\n",
      "5.027795318281852\n",
      "4.988648104694423\n",
      "5.012928309587274\n",
      "5.081666714554431\n",
      "5.272117622609143\n",
      "4.851869972177484\n",
      "4.956969286562633\n",
      "5.025160410234134\n",
      "4.993677569943672\n",
      "5.099870584911604\n",
      "5.096181311604027\n",
      "5.236923964162504\n",
      "4.903674873885619\n",
      "5.075807820064275\n",
      "4.701673307737802\n",
      "5.299083765240716\n",
      "5.112201692629844\n",
      "5.057198863500682\n",
      "5.213612968874003\n",
      "5.1198465312517225\n",
      "4.928097399784619\n",
      "4.991964359552881\n",
      "4.994824548764347\n",
      "5.049272339126923\n",
      "4.942713247937617\n",
      "4.91913758023255\n",
      "5.43143326229052\n",
      "5.116114463071936\n",
      "4.9625898877661445\n",
      "5.042137105313292\n",
      "5.157805681662321\n",
      "5.04896325685934\n",
      "5.018982423826876\n",
      "5.185034061711793\n",
      "5.032465453425752\n",
      "4.897108003638827\n",
      "4.95421678149162\n",
      "5.259006286037971\n",
      "5.182717981721985\n",
      "4.884826442197778\n",
      "5.156842877561891\n",
      "5.047645060816286\n",
      "5.050121866311711\n",
      "4.869794749038038\n",
      "4.9957190876138835\n",
      "5.022988953794398\n",
      "5.002839753440677\n",
      "4.881319490767778\n",
      "5.055591006717888\n",
      "5.015670050297785\n",
      "5.013392499945725\n",
      "4.989724363452584\n",
      "4.880412359751283\n",
      "5.416224099805669\n",
      "5.2867392415724135\n",
      "5.11414942585176\n",
      "5.079966239068073\n",
      "4.925427043815789\n",
      "5.145176957835869\n",
      "5.130160451160554\n",
      "5.024814422423505\n",
      "4.958769936817604\n",
      "4.81843182784822\n",
      "5.34842232805925\n",
      "5.279335054775109\n",
      "5.107921381756868\n",
      "5.15079791674754\n",
      "5.096406330816437\n",
      "5.00585692466524\n",
      "5.200218860079871\n",
      "4.96229644142354\n",
      "4.937523034036624\n",
      "5.174090668819386\n",
      "5.1400977102309175\n",
      "5.1319926651455186\n",
      "5.048127875476851\n",
      "5.416048064604175\n",
      "5.057120736099771\n",
      "4.864273959307718\n",
      "[2.38150361 0.22263106 0.53666744]\n"
     ]
    }
   ],
   "source": [
    "print(W)\n",
    "W = sgd(W, W, .009, 32, 200)\n",
    "print(W)"
   ]
  },
  {
   "cell_type": "markdown",
   "metadata": {},
   "source": [
    "## Visualizing the Result"
   ]
  },
  {
   "cell_type": "code",
   "execution_count": 13,
   "metadata": {},
   "outputs": [
    {
     "data": {
      "image/png": "[encoded data removed]",
      "text/plain": [
       "<Figure size 432x288 with 1 Axes>"
      ]
     },
     "metadata": {},
     "output_type": "display_data"
    }
   ],
   "source": [
    "def graph(formula, x_range):  \n",
    "    x = np.array(x_range)  \n",
    "    y = formula(x)  \n",
    "    plt.plot(x, y)  \n",
    "    \n",
    "def my_formula(x):\n",
    "    return (-W[0]-W[1]*x)/W[2]\n",
    "\n",
    "from matplotlib import pyplot as plt\n",
    "from pandas import DataFrame \n",
    "df = DataFrame(dict(x=X[:,1], y=X[:,2], label=Y))\n",
    "colors = {0:'blue', 1:'orange'}\n",
    "fig, ax = plt.subplots()\n",
    "grouped = df.groupby('label')\n",
    "for key, group in grouped:\n",
    "    group.plot(ax=ax, kind='scatter', x='x', y='y', label=key, color=colors[key])\n",
    "graph(my_formula, range(-20,15))\n",
    "plt.xlabel('X_1')\n",
    "plt.ylabel('X_2')\n",
    "plt.show()"
   ]
  }
 ],
 "metadata": {
  "kernelspec": {
   "display_name": "Python 3",
   "language": "python",
   "name": "python3"
  },
  "language_info": {
   "codemirror_mode": {
    "name": "ipython",
    "version": 3
   },
   "file_extension": ".py",
   "mimetype": "text/x-python",
   "name": "python",
   "nbconvert_exporter": "python",
   "pygments_lexer": "ipython3",
   "version": "3.6.5"
  }
 },
 "nbformat": 4,
 "nbformat_minor": 2
}
