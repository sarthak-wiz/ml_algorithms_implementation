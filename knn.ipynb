{
 "cells": [
  {
   "cell_type": "markdown",
   "metadata": {},
   "source": [
    "# KNN Implementation"
   ]
  },
  {
   "cell_type": "markdown",
   "metadata": {},
   "source": [
    "## Generate classification data"
   ]
  },
  {
   "cell_type": "code",
   "execution_count": null,
   "metadata": {},
   "outputs": [],
   "source": [
    "import numpy as np\n",
    "from sklearn.utils import shuffle\n",
    "from sklearn.datasets._samples_generator import make_blobs\n",
    "X_train, Y_train = make_blobs(n_samples=300, centers=2, n_features=2, cluster_std=6, random_state=11)"
   ]
  },
  {
   "cell_type": "markdown",
   "metadata": {},
   "source": [
    "## Plot the data"
   ]
  },
  {
   "cell_type": "code",
   "execution_count": null,
   "metadata": {},
   "outputs": [],
   "source": [
    "from matplotlib import pyplot as plt\n",
    "from matplotlib.pyplot import figure\n",
    "from pandas import DataFrame \n",
    "\n",
    "df = DataFrame(dict(x=X_train[:,0], y=X_train[:,1], label=Y_train))\n",
    "colors = {0:'blue', 1:'orange'}\n",
    "fig, ax = plt.subplots(figsize=(8,8))\n",
    "grouped = df.groupby('label')\n",
    "for key, group in grouped:\n",
    "    group.plot(ax=ax, kind='scatter', x='x', y='y', label=key, color=colors[key])\n",
    "plt.xlabel('X_1')\n",
    "plt.ylabel('X_2')\n",
    "plt.show()"
   ]
  },
  {
   "cell_type": "markdown",
   "metadata": {},
   "source": [
    "## Feature scaling"
   ]
  },
  {
   "cell_type": "code",
   "execution_count": null,
   "metadata": {},
   "outputs": [],
   "source": [
    "def normalize(X):\n",
    "    x1_min = min(X_train[:,0])\n",
    "    x1_max = max(X_train[:,0])\n",
    "    \n",
    "    f = lambda x: (x - x1_min)/(x1_max - x1_min)\n",
    "    X[:,0] = f(X[:,0])\n",
    "\n",
    "    x2_min = min(X_train[:,1])\n",
    "    x2_max = max(X_train[:,1])\n",
    "    \n",
    "    f = lambda x: (x - x2_min)/(x2_max - x2_min)\n",
    "    X[:,1] = f(X[:,1])\n",
    "    \n",
    "    return X"
   ]
  },
  {
   "cell_type": "code",
   "execution_count": null,
   "metadata": {},
   "outputs": [],
   "source": [
    "X = normalize(X_train)\n",
    "print(X[0:5])"
   ]
  },
  {
   "cell_type": "markdown",
   "metadata": {},
   "source": [
    "## Heart of KNN"
   ]
  },
  {
   "cell_type": "code",
   "execution_count": null,
   "metadata": {},
   "outputs": [],
   "source": [
    "def find_neighbors(k, X_tr, new_point):\n",
    "    neighbor_arr = []\n",
    "    for i in range(len(X_tr)):\n",
    "        dist = np.sqrt(sum(np.square(X_tr[i]-new_point)))\n",
    "        neighbor_arr.append([i, dist])\n",
    "    neighbor_arr = sorted(neighbor_arr, key = lambda x : x[1])\n",
    "    \n",
    "    return neighbor_arr[0:k]"
   ]
  },
  {
   "cell_type": "markdown",
   "metadata": {},
   "source": [
    "Classification with KNN"
   ]
  },
  {
   "cell_type": "code",
   "execution_count": null,
   "metadata": {},
   "outputs": [],
   "source": [
    "from collections import Counter\n",
    "def classifier(neighbor_arr):\n",
    "    class_arr = [Y_train[i[0]] for i in neighbor_arr]\n",
    "    return Counter(class_arr).most_common(1)[0][0]"
   ]
  },
  {
   "cell_type": "code",
   "execution_count": null,
   "metadata": {},
   "outputs": [],
   "source": [
    "new_points = np.array([[-10, -10],\n",
    "                      [0, 10],\n",
    "                      [-15, 10],\n",
    "                      [5, -2]])\n",
    "\n",
    "new_points = normalize(new_points)"
   ]
  },
  {
   "cell_type": "code",
   "execution_count": null,
   "metadata": {},
   "outputs": [],
   "source": [
    "knn = find_neighbors(4, X, new_points[1])\n",
    "classifier(knn)"
   ]
  },
  {
   "cell_type": "markdown",
   "metadata": {},
   "source": [
    "## Generate regression data"
   ]
  },
  {
   "cell_type": "code",
   "execution_count": null,
   "metadata": {},
   "outputs": [],
   "source": [
    "from sklearn.datasets._samples_generator import make_regression\n",
    "X_train, Y_train = make_regression(n_samples=300, n_features=2, n_informative=2, noise=5, bias=30, random_state=200)"
   ]
  },
  {
   "cell_type": "markdown",
   "metadata": {},
   "source": [
    "# Plot the data"
   ]
  },
  {
   "cell_type": "code",
   "execution_count": null,
   "metadata": {},
   "outputs": [],
   "source": [
    "from mpl_toolkits.mplot3d import Axes3D\n",
    "from matplotlib import pyplot as plt\n",
    "fig = plt.figure(figsize=(8, 8))\n",
    "ax = fig.add_subplot(111, projection='3d')\n",
    "ax.scatter(X_train[:,0],X_train[:,1],Y_train, c = \"red\",alpha=.5, marker = 'o')\n",
    "ax.set_xlabel('X_1')\n",
    "ax.set_ylabel('X_2')\n",
    "ax.set_zlabel('Y')\n",
    "plt.show()"
   ]
  },
  {
   "cell_type": "markdown",
   "metadata": {},
   "source": [
    "## Regression with KNN"
   ]
  },
  {
   "cell_type": "code",
   "execution_count": null,
   "metadata": {},
   "outputs": [],
   "source": [
    "def regressor(neighbor_arr):\n",
    "    y_arr = [Y_train[i[0]] for i in neighbor_arr]\n",
    "    avg_y = np.mean(y_arr)\n",
    "    return avg_y"
   ]
  },
  {
   "cell_type": "code",
   "execution_count": null,
   "metadata": {},
   "outputs": [],
   "source": [
    "new_points = np.array([[-1, 1],\n",
    "                      [0, 2],\n",
    "                      [-3, -2],\n",
    "                      [3, -3]])\n",
    "\n",
    "knn = find_neighbors(3, X_train, new_points[1])\n",
    "regressor(knn)"
   ]
  }
 ],
 "metadata": {
  "kernelspec": {
   "display_name": ".venv",
   "language": "python",
   "name": "python3"
  },
  "language_info": {
   "name": "python",
   "version": "3.11.9"
  }
 },
 "nbformat": 4,
 "nbformat_minor": 2
}
